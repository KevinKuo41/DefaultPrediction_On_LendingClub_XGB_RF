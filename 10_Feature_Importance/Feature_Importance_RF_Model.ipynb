{
 "cells": [
  {
   "cell_type": "markdown",
   "source": [
    "# Feature Importance"
   ],
   "metadata": {
    "collapsed": false
   }
  },
  {
   "cell_type": "code",
   "execution_count": 38,
   "outputs": [],
   "source": [
    "importances = rf.feature_importances_\n",
    "importance = pd.DataFrame(importances, index=features)\n",
    "importance = importance.reset_index()\n",
    "importance.columns = ['feature', 'importance']\n",
    "importance = importance.sort_values('importance', ascending=False)\n",
    "importance = importance.reset_index(drop=True)"
   ],
   "metadata": {
    "collapsed": false
   }
  },
  {
   "cell_type": "code",
   "execution_count": 39,
   "outputs": [
    {
     "data": {
      "text/plain": "                   feature  importance\n0                 int_rate    0.128810\n1                sub_grade    0.114257\n2              installment    0.046010\n3          tot_hi_cred_lim    0.038870\n4              avg_cur_bal    0.037948\n5                loan_amnt    0.036881\n6                     term    0.036355\n7                      dti    0.036291\n8           total_bc_limit    0.035660\n9              tot_cur_bal    0.034929\n10               revol_bal    0.033880\n11              revol_util    0.033023\n12        earliest_cr_line    0.032634\n13                 issue_d    0.031652\n14       total_bal_ex_mort    0.030198\n15              annual_inc    0.030001\n16          open_rev_ratio    0.024248\n17              emp_length    0.023694\n18              addr_state    0.022881\n19               total_acc    0.019588\n20         active_ratio_bc    0.019464\n21               num_il_tl    0.018001\n22           num_rev_accts    0.016586\n23        percent_bc_gt_75    0.016051\n24           num_op_rev_tl    0.014736\n25                open_acc    0.014240\n26               num_bc_tl    0.013632\n27          num_actv_bc_tl    0.012691\n28     verification_status    0.009818\n29          home_ownership    0.008410\n30        t_inq_last_6mths    0.008033\n31                 purpose    0.006880\n32           t_open_il_12m    0.004267\n33   num_accts_ever_120_pd    0.003400\n34           t_delinq_2yrs    0.002000\n35               t_pub_rec    0.001949\n36  t_pub_rec_bankruptcies    0.001519\n37    t_num_tl_90g_dpd_24m    0.000512",
      "text/html": "<div>\n<style scoped>\n    .dataframe tbody tr th:only-of-type {\n        vertical-align: middle;\n    }\n\n    .dataframe tbody tr th {\n        vertical-align: top;\n    }\n\n    .dataframe thead th {\n        text-align: right;\n    }\n</style>\n<table border=\"1\" class=\"dataframe\">\n  <thead>\n    <tr style=\"text-align: right;\">\n      <th></th>\n      <th>feature</th>\n      <th>importance</th>\n    </tr>\n  </thead>\n  <tbody>\n    <tr>\n      <th>0</th>\n      <td>int_rate</td>\n      <td>0.128810</td>\n    </tr>\n    <tr>\n      <th>1</th>\n      <td>sub_grade</td>\n      <td>0.114257</td>\n    </tr>\n    <tr>\n      <th>2</th>\n      <td>installment</td>\n      <td>0.046010</td>\n    </tr>\n    <tr>\n      <th>3</th>\n      <td>tot_hi_cred_lim</td>\n      <td>0.038870</td>\n    </tr>\n    <tr>\n      <th>4</th>\n      <td>avg_cur_bal</td>\n      <td>0.037948</td>\n    </tr>\n    <tr>\n      <th>5</th>\n      <td>loan_amnt</td>\n      <td>0.036881</td>\n    </tr>\n    <tr>\n      <th>6</th>\n      <td>term</td>\n      <td>0.036355</td>\n    </tr>\n    <tr>\n      <th>7</th>\n      <td>dti</td>\n      <td>0.036291</td>\n    </tr>\n    <tr>\n      <th>8</th>\n      <td>total_bc_limit</td>\n      <td>0.035660</td>\n    </tr>\n    <tr>\n      <th>9</th>\n      <td>tot_cur_bal</td>\n      <td>0.034929</td>\n    </tr>\n    <tr>\n      <th>10</th>\n      <td>revol_bal</td>\n      <td>0.033880</td>\n    </tr>\n    <tr>\n      <th>11</th>\n      <td>revol_util</td>\n      <td>0.033023</td>\n    </tr>\n    <tr>\n      <th>12</th>\n      <td>earliest_cr_line</td>\n      <td>0.032634</td>\n    </tr>\n    <tr>\n      <th>13</th>\n      <td>issue_d</td>\n      <td>0.031652</td>\n    </tr>\n    <tr>\n      <th>14</th>\n      <td>total_bal_ex_mort</td>\n      <td>0.030198</td>\n    </tr>\n    <tr>\n      <th>15</th>\n      <td>annual_inc</td>\n      <td>0.030001</td>\n    </tr>\n    <tr>\n      <th>16</th>\n      <td>open_rev_ratio</td>\n      <td>0.024248</td>\n    </tr>\n    <tr>\n      <th>17</th>\n      <td>emp_length</td>\n      <td>0.023694</td>\n    </tr>\n    <tr>\n      <th>18</th>\n      <td>addr_state</td>\n      <td>0.022881</td>\n    </tr>\n    <tr>\n      <th>19</th>\n      <td>total_acc</td>\n      <td>0.019588</td>\n    </tr>\n    <tr>\n      <th>20</th>\n      <td>active_ratio_bc</td>\n      <td>0.019464</td>\n    </tr>\n    <tr>\n      <th>21</th>\n      <td>num_il_tl</td>\n      <td>0.018001</td>\n    </tr>\n    <tr>\n      <th>22</th>\n      <td>num_rev_accts</td>\n      <td>0.016586</td>\n    </tr>\n    <tr>\n      <th>23</th>\n      <td>percent_bc_gt_75</td>\n      <td>0.016051</td>\n    </tr>\n    <tr>\n      <th>24</th>\n      <td>num_op_rev_tl</td>\n      <td>0.014736</td>\n    </tr>\n    <tr>\n      <th>25</th>\n      <td>open_acc</td>\n      <td>0.014240</td>\n    </tr>\n    <tr>\n      <th>26</th>\n      <td>num_bc_tl</td>\n      <td>0.013632</td>\n    </tr>\n    <tr>\n      <th>27</th>\n      <td>num_actv_bc_tl</td>\n      <td>0.012691</td>\n    </tr>\n    <tr>\n      <th>28</th>\n      <td>verification_status</td>\n      <td>0.009818</td>\n    </tr>\n    <tr>\n      <th>29</th>\n      <td>home_ownership</td>\n      <td>0.008410</td>\n    </tr>\n    <tr>\n      <th>30</th>\n      <td>t_inq_last_6mths</td>\n      <td>0.008033</td>\n    </tr>\n    <tr>\n      <th>31</th>\n      <td>purpose</td>\n      <td>0.006880</td>\n    </tr>\n    <tr>\n      <th>32</th>\n      <td>t_open_il_12m</td>\n      <td>0.004267</td>\n    </tr>\n    <tr>\n      <th>33</th>\n      <td>num_accts_ever_120_pd</td>\n      <td>0.003400</td>\n    </tr>\n    <tr>\n      <th>34</th>\n      <td>t_delinq_2yrs</td>\n      <td>0.002000</td>\n    </tr>\n    <tr>\n      <th>35</th>\n      <td>t_pub_rec</td>\n      <td>0.001949</td>\n    </tr>\n    <tr>\n      <th>36</th>\n      <td>t_pub_rec_bankruptcies</td>\n      <td>0.001519</td>\n    </tr>\n    <tr>\n      <th>37</th>\n      <td>t_num_tl_90g_dpd_24m</td>\n      <td>0.000512</td>\n    </tr>\n  </tbody>\n</table>\n</div>"
     },
     "execution_count": 39,
     "metadata": {},
     "output_type": "execute_result"
    }
   ],
   "source": [
    "importance"
   ],
   "metadata": {
    "collapsed": false
   }
  }
 ],
 "metadata": {
  "kernelspec": {
   "display_name": "Python 3",
   "language": "python",
   "name": "python3"
  },
  "language_info": {
   "codemirror_mode": {
    "name": "ipython",
    "version": 3
   },
   "file_extension": ".py",
   "mimetype": "text/x-python",
   "name": "python",
   "nbconvert_exporter": "python",
   "pygments_lexer": "ipython3",
   "version": "3.8.8"
  }
 },
 "nbformat": 4,
 "nbformat_minor": 5
}
