{
 "cells": [
  {
   "cell_type": "markdown",
   "source": [
    "# Tuning Model - RF - n_estimators, max_depth, min_samples_split, min_sample_leaf - undersample"
   ],
   "metadata": {
    "collapsed": false
   }
  },
  {
   "cell_type": "code",
   "execution_count": null,
   "outputs": [],
   "source": [
    "random_state = 123\n",
    "X = tree_raw.drop('loan_status', axis=1)\n",
    "y = tree_raw['loan_status']\n",
    "X_train,X_test,y_train,y_test = train_test_split(X,y,test_size=0.2,random_state=random_state)\n",
    "X_train,X_validation,y_train,y_validation = train_test_split(X,y,test_size=0.25,random_state=random_state)\n",
    "X_train = X_train[features]\n",
    "X_test = X_test[features]\n",
    "X_train = np.array(X_train)\n",
    "y_train = np.array(y_train)\n",
    "\n",
    "undersampler = RandomUnderSampler(sampling_strategy='majority')\n",
    "X_train, y_train = undersampler.fit_resample(X_train, y_train)\n",
    "\n",
    "\n",
    "RF_param_grid =  {'n_estimators': [100,200,300,400,500,600,700,800,900,1000,1500],\n",
    "                  'max_depth': [None,60,70,80,90,100],\n",
    "                  'min_samples_split': [2,3,4,5,6,7,8,9,10,11,12,13,14],\n",
    "                  'min_samples_leaf':[1,2,3,4,5,7,8,9,10]}\n",
    "\n",
    "RF_model = RandomForestClassifier(random_state=random_state)\n",
    "grid_ap = GridSearchCV(estimator=RF_model, param_grid=RF_param_grid, scoring='average_precision', cv=5, verbose=1)\n",
    "grid_ap.fit(X_train, y_train)"
   ],
   "metadata": {
    "collapsed": false,
    "pycharm": {
     "is_executing": true
    }
   }
  },
  {
   "cell_type": "markdown",
   "source": [
    "Selecting n_estimators as 1000, max_depth as 100, min_samples_split as 14, and min_sample_leaf as 9"
   ],
   "metadata": {
    "collapsed": false
   }
  }
 ],
 "metadata": {
  "kernelspec": {
   "display_name": "Python 3",
   "language": "python",
   "name": "python3"
  },
  "language_info": {
   "codemirror_mode": {
    "name": "ipython",
    "version": 3
   },
   "file_extension": ".py",
   "mimetype": "text/x-python",
   "name": "python",
   "nbconvert_exporter": "python",
   "pygments_lexer": "ipython3",
   "version": "3.8.8"
  }
 },
 "nbformat": 4,
 "nbformat_minor": 5
}
