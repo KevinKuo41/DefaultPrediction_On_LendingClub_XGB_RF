{
 "cells": [
  {
   "cell_type": "markdown",
   "id": "3264b01c",
   "metadata": {},
   "source": [
    "# Tuning Model - XGBoost - eta - learning rate - oversample"
   ]
  },
  {
   "cell_type": "code",
   "execution_count": null,
   "id": "14d38cfc",
   "metadata": {
    "collapsed": true,
    "pycharm": {
     "is_executing": true
    }
   },
   "outputs": [],
   "source": [
    "random_state =123\n",
    "X = tree_raw.drop('loan_status',axis=1)\n",
    "y = tree_raw['loan_status']\n",
    "X_train,X_test,y_train,y_test = train_test_split(X,y,test_size=0.2,random_state=random_state)\n",
    "X_train,X_validation,y_train,y_validation = train_test_split(X,y,test_size=0.25,random_state=random_state)\n",
    "cv = KFold(n_splits=5,random_state=random_state,shuffle=True)\n",
    "\n",
    "X_train = np.array(X_train)\n",
    "y_train = np.array(y_train)\n",
    "collection = []\n",
    "for eta in np.arange(0.05,0.55,0.05):\n",
    "    one_result = {}\n",
    "    one_result['eta'] = eta\n",
    "    model_f1_list = []\n",
    "    model_ap_list = []\n",
    "    for fold_train_index,fold_test_index in cv.split(X_train):\n",
    "        xg = xgb.XGBClassifier(eta = eta)\n",
    "        oversampler = RandomOverSampler(sampling_strategy='minority')\n",
    "        X_train_fold = X_train[fold_train_index]\n",
    "        X_test_fold = X_train[fold_test_index]\n",
    "        y_train_fold = y_train[fold_train_index]\n",
    "        y_test_fold = y_train[fold_test_index]\n",
    "            \n",
    "        X_train_fold,y_train_fold = oversampler.fit_resample(X_train_fold,y_train_fold)\n",
    "        xg.fit(X_train_fold,y_train_fold)\n",
    "            \n",
    "        fold_predict = xg.predict(X_test_fold)\n",
    "        fold_pred_prob = xg.predict_proba(X_test_fold)\n",
    "            \n",
    "        model_f1 = f1_score(y_true=y_test_fold,y_pred=fold_predict)\n",
    "        model_ap = average_precision_score(y_true=y_test_fold,y_score=fold_pred_prob[:,1])\n",
    "            \n",
    "        model_f1_list.append(model_f1)\n",
    "        model_ap_list.append(model_ap)\n",
    "        print(model_f1,model_ap)\n",
    "    one_result['f1'] = np.mean(model_f1)\n",
    "    one_result['ap'] = np.mean(model_ap)\n",
    "    collection.append(one_result)\n",
    "            \n",
    "eta_result = pd.DataFrame(collection)  "
   ]
  },
  {
   "cell_type": "markdown",
   "id": "ea7dbd9b",
   "metadata": {},
   "source": [
    "Choose eta to be 0.15"
   ]
  },
  {
   "cell_type": "markdown",
   "id": "40159459",
   "metadata": {},
   "source": [
    "# Tuning Model - XGBoost - Min_child_weight - Max_depth, rate - oversample"
   ]
  },
  {
   "cell_type": "code",
   "execution_count": null,
   "id": "97621570",
   "metadata": {
    "collapsed": true,
    "pycharm": {
     "is_executing": true
    }
   },
   "outputs": [],
   "source": [
    "X_train = np.array(X_train)\n",
    "y_train = np.array(y_train)\n",
    "collection = []\n",
    "for max_depth in np.arange(3,11,1):\n",
    "    for min_child_weight in np.arange(1,11,1):\n",
    "\n",
    "        one_result = {}\n",
    "        one_result['max_depth'] = max_depth\n",
    "        one_result['min_child_weight'] = min_child_weight\n",
    "        \n",
    "        model_f1_list = []\n",
    "        model_ap_list = []\n",
    "        for fold_train_index,fold_test_index in cv.split(X_train):\n",
    "            xg = xgb.XGBClassifier(eta = 0.15,max_depth = max_depth,min_child_weight=min_child_weight)\n",
    "            oversampler = RandomOverSampler(sampling_strategy='minority')\n",
    "            X_train_fold = X_train[fold_train_index]\n",
    "            X_test_fold = X_train[fold_test_index]\n",
    "            y_train_fold = y_train[fold_train_index]\n",
    "            y_test_fold = y_train[fold_test_index]\n",
    "\n",
    "            X_train_fold,y_train_fold = oversampler.fit_resample(X_train_fold,y_train_fold)\n",
    "            xg.fit(X_train_fold,y_train_fold)\n",
    "\n",
    "            fold_predict = xg.predict(X_test_fold)\n",
    "            fold_pred_prob = xg.predict_proba(X_test_fold)\n",
    "\n",
    "            model_f1 = f1_score(y_true=y_test_fold,y_pred=fold_predict)\n",
    "            model_ap = average_precision_score(y_true=y_test_fold,y_score=fold_pred_prob[:,1])\n",
    "\n",
    "            model_f1_list.append(model_f1)\n",
    "            model_ap_list.append(model_ap)\n",
    "            print(model_f1,model_ap)\n",
    "        one_result['f1'] = np.mean(model_f1)\n",
    "        one_result['ap'] = np.mean(model_ap)\n",
    "        collection.append(one_result)\n",
    "second_run = pd.DataFrame(collection).sort_values('ap')   \n",
    "second_run.sort_values('ap')"
   ]
  },
  {
   "cell_type": "markdown",
   "id": "d8f424b5",
   "metadata": {},
   "source": [
    "max depth = 6 and min child weight = 4"
   ]
  },
  {
   "cell_type": "markdown",
   "id": "1d9d9284",
   "metadata": {},
   "source": [
    "# Tuning Model - XGBoost - gamma - oversample"
   ]
  },
  {
   "cell_type": "code",
   "execution_count": null,
   "id": "4933dc09",
   "metadata": {
    "collapsed": true,
    "pycharm": {
     "is_executing": true
    }
   },
   "outputs": [],
   "source": [
    "X_train = np.array(X_train)\n",
    "y_train = np.array(y_train)\n",
    "collection = []\n",
    "for gamma in np.arange(0,2,0.1):\n",
    "  \n",
    "\n",
    "    one_result = {}\n",
    "    one_result['gamma'] = gamma\n",
    "   \n",
    "\n",
    "    model_f1_list = []\n",
    "    model_ap_list = []\n",
    "    for fold_train_index,fold_test_index in cv.split(X_train):\n",
    "        xg = xgb.XGBClassifier(eta = 0.15,max_depth = 6,min_child_weight=4,gamma=gamma)\n",
    "        oversampler = RandomOverSampler(sampling_strategy='minority')\n",
    "        X_train_fold = X_train[fold_train_index]\n",
    "        X_test_fold = X_train[fold_test_index]\n",
    "        y_train_fold = y_train[fold_train_index]\n",
    "        y_test_fold = y_train[fold_test_index]\n",
    "\n",
    "        X_train_fold,y_train_fold = oversampler.fit_resample(X_train_fold,y_train_fold)\n",
    "        xg.fit(X_train_fold,y_train_fold)\n",
    "\n",
    "        fold_predict = xg.predict(X_test_fold)\n",
    "        fold_pred_prob = xg.predict_proba(X_test_fold)\n",
    "\n",
    "        model_f1 = f1_score(y_true=y_test_fold,y_pred=fold_predict)\n",
    "        model_ap = average_precision_score(y_true=y_test_fold,y_score=fold_pred_prob[:,1])\n",
    "\n",
    "        model_f1_list.append(model_f1)\n",
    "        model_ap_list.append(model_ap)\n",
    "        print(model_f1,model_ap)\n",
    "    one_result['f1'] = np.mean(model_f1)\n",
    "    one_result['ap'] = np.mean(model_ap)\n",
    "    collection.append(one_result)\n",
    "gamma_selection = pd.DataFrame(collection)         \n",
    "gamma_selection"
   ]
  },
  {
   "cell_type": "markdown",
   "id": "49333b65",
   "metadata": {},
   "source": [
    "Selecting Gamma as 1.6"
   ]
  },
  {
   "cell_type": "markdown",
   "id": "94d96338",
   "metadata": {},
   "source": [
    "# Tuning Model - XGBoost - colsample_bytree,subsample - oversample"
   ]
  },
  {
   "cell_type": "code",
   "execution_count": null,
   "id": "e78c7fab",
   "metadata": {
    "collapsed": true,
    "pycharm": {
     "is_executing": true
    }
   },
   "outputs": [],
   "source": [
    "X_train = np.array(X_train)\n",
    "y_train = np.array(y_train)\n",
    "collection = []\n",
    "for colsample_bytree in np.arange(0.1,1,0.1):\n",
    "    for subsample in np.arange(0.1,1,0.1):\n",
    "  \n",
    "\n",
    "        one_result = {}\n",
    "        one_result['subsample'] = subsample\n",
    "        one_result['colsample_bytree'] = colsample_bytree\n",
    "\n",
    "\n",
    "        model_f1_list = []\n",
    "        model_ap_list = []\n",
    "        for fold_train_index,fold_test_index in cv.split(X_train):\n",
    "            xg = xgb.XGBClassifier(eta = 0.15,max_depth = 6,min_child_weight=4,\n",
    "                                   gamma=1.6,colsample_bytree=colsample_bytree,subsample=subsample)\n",
    "            oversampler = RandomOverSampler(sampling_strategy='minority')\n",
    "            X_train_fold = X_train[fold_train_index]\n",
    "            X_test_fold = X_train[fold_test_index]\n",
    "            y_train_fold = y_train[fold_train_index]\n",
    "            y_test_fold = y_train[fold_test_index]\n",
    "\n",
    "            X_train_fold,y_train_fold = oversampler.fit_resample(X_train_fold,y_train_fold)\n",
    "            xg.fit(X_train_fold,y_train_fold)\n",
    "\n",
    "            fold_predict = xg.predict(X_test_fold)\n",
    "            fold_pred_prob = xg.predict_proba(X_test_fold)\n",
    "\n",
    "            model_f1 = f1_score(y_true=y_test_fold,y_pred=fold_predict)\n",
    "            model_ap = average_precision_score(y_true=y_test_fold,y_score=fold_pred_prob[:,1])\n",
    "\n",
    "            model_f1_list.append(model_f1)\n",
    "            model_ap_list.append(model_ap)\n",
    "            print(model_f1,model_ap)\n",
    "        one_result['f1'] = np.mean(model_f1)\n",
    "        one_result['ap'] = np.mean(model_ap)\n",
    "        collection.append(one_result)\n",
    "third_run = pd.DataFrame(collection)\n",
    "third_run.sort_values('ap')"
   ]
  },
  {
   "cell_type": "markdown",
   "id": "d637d312",
   "metadata": {},
   "source": [
    "0.6 subsample, 0.9 colsamle_bytree"
   ]
  },
  {
   "cell_type": "markdown",
   "id": "79a4339d",
   "metadata": {},
   "source": [
    "# Tuning Model - XGBoost - reg_lambda,reg_alpha - oversample"
   ]
  },
  {
   "cell_type": "code",
   "execution_count": null,
   "id": "2ae6ebc4",
   "metadata": {
    "pycharm": {
     "is_executing": true
    }
   },
   "outputs": [],
   "source": [
    "X_train = np.array(X_train)\n",
    "y_train = np.array(y_train)\n",
    "collection = []\n",
    "for reg_lambda in np.arange(0,1.1,0.1):\n",
    "    for reg_alpha in np.arange(0,1.1,0.1):\n",
    "\n",
    "        one_result = {}\n",
    "        one_result['reg_lambda'] = reg_lambda\n",
    "        one_result['reg_alpha'] = reg_alpha\n",
    "\n",
    "\n",
    "        model_f1_list = []\n",
    "        model_ap_list = []\n",
    "        for fold_train_index,fold_test_index in cv.split(X_train):\n",
    "            xg = xgb.XGBClassifier(eta = 0.15,max_depth = 6,min_child_weight=4,\n",
    "                                   gamma=1.6,colsample_bytree=0.9,subsample=0.6,\n",
    "                                  reg_alpha=reg_alpha,reg_lambda=reg_lambda)\n",
    "            oversampler = RandomOverSampler(sampling_strategy='minority')\n",
    "            X_train_fold = X_train[fold_train_index]\n",
    "            X_test_fold = X_train[fold_test_index]\n",
    "            y_train_fold = y_train[fold_train_index]\n",
    "            y_test_fold = y_train[fold_test_index]\n",
    "\n",
    "            X_train_fold,y_train_fold = oversampler.fit_resample(X_train_fold,y_train_fold)\n",
    "            xg.fit(X_train_fold,y_train_fold)\n",
    "\n",
    "            fold_predict = xg.predict(X_test_fold)\n",
    "            fold_pred_prob = xg.predict_proba(X_test_fold)\n",
    "\n",
    "            model_f1 = f1_score(y_true=y_test_fold,y_pred=fold_predict)\n",
    "            model_ap = average_precision_score(y_true=y_test_fold,y_score=fold_pred_prob[:,1])\n",
    "\n",
    "            model_f1_list.append(model_f1)\n",
    "            model_ap_list.append(model_ap)\n",
    "            print(model_f1,model_ap)\n",
    "        one_result['f1'] = np.mean(model_f1)\n",
    "        one_result['ap'] = np.mean(model_ap)\n",
    "        collection.append(one_result)\n",
    "reg = pd.DataFrame(collection)\n",
    "reg"
   ]
  },
  {
   "cell_type": "markdown",
   "id": "f4d3d5fa",
   "metadata": {},
   "source": [
    "8 hypers : eta = 0.15,max_depth = 6,min_child_weight=4,gamma=1.6,colsample_bytree=0.9,subsample=0.6,reg_alpha=0.2,reg_lambda=1"
   ]
  }
 ],
 "metadata": {
  "kernelspec": {
   "display_name": "Python 3 (ipykernel)",
   "language": "python",
   "name": "python3"
  },
  "language_info": {
   "codemirror_mode": {
    "name": "ipython",
    "version": 3
   },
   "file_extension": ".py",
   "mimetype": "text/x-python",
   "name": "python",
   "nbconvert_exporter": "python",
   "pygments_lexer": "ipython3",
   "version": "3.8.12"
  }
 },
 "nbformat": 4,
 "nbformat_minor": 5
}
